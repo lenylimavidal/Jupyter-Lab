# Load a data set
> Project status: In development


Upload a CSV

Debe poder cargar sus datos antes de comenzar su proyecto de aprendizaje automático. El formato más común para los datos de aprendizaje automático son los archivos CSV. Hay varias formas de cargar un archivo CSV en Python:
* Cargue archivos CSV con la biblioteca estándar de Python.
* Cargue archivos CSV con NumPy.
* Cargue archivos CSV con Pandas.


<a id="section2"></a>
# <font color="#004D7F"> 2. Cargar un CSV</font>
