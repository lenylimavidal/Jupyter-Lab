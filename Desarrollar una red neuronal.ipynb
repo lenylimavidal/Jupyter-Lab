{
 "cells": [
  {
   "cell_type": "markdown",
   "metadata": {},
   "source": [
    "<h1><font color=\"#113D68\" size=6>Deep Learning con Python y Keras</font></h1>\n",
    "\n",
    "<h1><font color=\"#113D68\" size=5>Multilayer Perceptron</font></h1>\n",
    "\n",
    "<h1><font color=\"#113D68\" size=4>Desarrollar una red neuronal</font></h1>\n",
    "\n"
   ]
  },
  {
   "cell_type": "markdown",
   "metadata": {},
   "source": [
    "---\n",
    "\n",
    "<a id=\"indice\"></a>\n",
    "<h2><font color=\"#004D7F\" size=5>Índice</font></h2>\n",
    "\n",
    "* [0. Contexto](#section0)\n",
    "* [1. Conjunto de datos](#section1)\n",
    "* [2. Cargar datos](#section2)\n",
    "* [3. Definir modelo](#section3)\n",
    "* [4. Compilar modelo](#section4)\n",
    "* [5. Ajustar modelo](#section5)\n",
    "* [6. Evaluar modelo](#section6)\n",
    "* [7. Hacer predicciones](#section7)\n"
   ]
  },
  {
   "cell_type": "markdown",
   "metadata": {},
   "source": [
    "---\n",
    "<a id=\"section0\"></a>\n",
    "# <font color=\"#004D7F\" size=6> 0. Contexto</font>"
   ]
  },
  {
   "cell_type": "markdown",
   "metadata": {},
   "source": [
    "Diseñaremos nuestra primera red neuronal.\n",
    "\n",
    "* Cómo cargar un conjunto de datos?\n",
    "* Cómo diseñar y compilar un modelo de perceptrón multicapa en Kera?\n",
    "* Cómo evaluar un modelo de Keras?"
   ]
  },
  {
   "cell_type": "markdown",
   "metadata": {},
   "source": [
    "---\n",
    "<div style=\"text-align: right\"> <font size=5> <a href=\"#indice\"><i class=\"fa fa-arrow-circle-up\" aria-hidden=\"true\" style=\"color:#004D7F\"></i></a></font></div>\n",
    "\n",
    "---"
   ]
  },
  {
   "cell_type": "markdown",
   "metadata": {},
   "source": [
    "<a id=\"section1\"></a>\n",
    "# <font color=\"#004D7F\" size=6>1. Conjunto de datos</font>"
   ]
  },
  {
   "cell_type": "markdown",
   "metadata": {},
   "source": [
    "En este tutorial vamos a utilizar el conjunto de datos Pima Indians Diabetes. Describe los datos de los registros médicos de los pacientes y si tuvieron una aparición de diabetes dentro de los cinco años. Es un problema de clasificación binaria (aparición de diabetes como 1 o 0 si no aparece). Las variables de entrada que describen a cada paciente son numéricas y tienen escalas variables.\n",
    "\n",
    "Dado que todos los atributos son numéricos, es fácil de usar directamente con redes neuronales que esperan entradas y valores de salida numéricos."
   ]
  },
  {
   "cell_type": "markdown",
   "metadata": {},
   "source": [
    "<div class=\"alert alert-block alert-info\">\n",
    "    \n",
    "<i class=\"fa fa-info-circle\" aria-hidden=\"true\"></i>\n",
    "Puede descargar el Dataset desde [Kaggle](https://www.kaggle.com/uciml/pima-indians-diabetes-database)"
   ]
  },
  {
   "cell_type": "markdown",
   "metadata": {},
   "source": [
    "La precisión de la línea de base si se hacen todas las predicciones ya que no aparece la diabetes es del 65,1%. Los mejores resultados en el conjunto de datos están en el rango de 77,7% de precisión utilizando una validación cruzada de 10 veces."
   ]
  },
  {
   "cell_type": "markdown",
   "metadata": {},
   "source": [
    "---\n",
    "<div style=\"text-align: right\"> <font size=5> <a href=\"#indice\"><i class=\"fa fa-arrow-circle-up\" aria-hidden=\"true\" style=\"color:#004D7F\"></i></a></font></div>\n",
    "\n",
    "---"
   ]
  },
  {
   "cell_type": "markdown",
   "metadata": {},
   "source": [
    "<a id=\"section2\"></a>\n",
    "# <font color=\"#004D7F\" size=6>2. Cargar datos</font>"
   ]
  },
  {
   "cell_type": "markdown",
   "metadata": {},
   "source": [
    "Vamos a cargar el archivo directamente usando la función `loadtxt()` de NumPy y establecer dividir las características y target."
   ]
  },
  {
   "cell_type": "code",
   "execution_count": 1,
   "metadata": {
    "scrolled": true
   },
   "outputs": [],
   "source": [
    "import numpy as np\n",
    "\n",
    "dataset = np.loadtxt('Datasets/pima-indians-diabetes.csv', delimiter=',')\n",
    "X = dataset[:, 0:8]\n",
    "y = dataset[:, 8]"
   ]
  },
  {
   "cell_type": "markdown",
   "metadata": {},
   "source": [
    "---\n",
    "<div style=\"text-align: right\"> <font size=5> <a href=\"#indice\"><i class=\"fa fa-arrow-circle-up\" aria-hidden=\"true\" style=\"color:#004D7F\"></i></a></font></div>\n",
    "\n",
    "---"
   ]
  },
  {
   "cell_type": "markdown",
   "metadata": {},
   "source": [
    "<a id=\"section3\"></a>\n",
    "# <font color=\"#004D7F\" size=6>3. Definir modelo</font>"
   ]
  },
  {
   "cell_type": "markdown",
   "metadata": {},
   "source": [
    "# Los modelos en Keras se definen como una secuencia de capas. Creamos un modelo **Secuencial** y agregamos capas de una en una hasta que estemos satisfechos con nuestra topología de red. \n",
    "\n",
    "Lo primero que debe hacer bien es asegurarse de que la capa de entrada tenga el número correcto de entradas. Esto se puede especificar al crear la primera capa con el argumento `input_dim` y establecerlo en 8. \n",
    "\n",
    "Pregunta, ¿Cómo sabemos la cantidad de capas que debemos usar y sus tipos? \n",
    "\n",
    "\n",
    "En sí el procedimiento a utilizar será:\n",
    "1. Las capas completamente conectadas se definen mediante la clase `Dense`. Se puede especificar:\n",
    "    * El número de neuronas en la capa como primer argumento y \n",
    "    * Especificar la función de activación usando el parámetro `activation`.\n",
    "2. Usaremos la función de activación ReLu en las dos primeras capas y la función de activación Sigmoidea en la capa de salida. \n",
    "3. Usamos una función de activación sigmoidea en la capa de salida para garantizar que la salida de nuestra red esté entre 0 y 1. \n",
    "\n",
    "La siguiente figura proporciona una descripción de la estructura de la red.\n",
    "\n",
    "\n",
    "<img src=\"images/2_redNeuronal.png\" width=\"200\" height=\"200\" />"
   ]
  },
  {
   "cell_type": "code",
   "execution_count": 20,
   "metadata": {},
   "outputs": [
    {
     "name": "stdout",
     "output_type": "stream",
     "text": [
      "Defaulting to user installation because normal site-packages is not writeable\n",
      "Requirement already satisfied: tensorflow in c:\\users\\alex\\appdata\\roaming\\python\\python39\\site-packages (2.10.0)\n",
      "Requirement already satisfied: six>=1.12.0 in c:\\programdata\\anaconda3\\lib\\site-packages (from tensorflow) (1.16.0)\n",
      "Requirement already satisfied: gast<=0.4.0,>=0.2.1 in c:\\users\\alex\\appdata\\roaming\\python\\python39\\site-packages (from tensorflow) (0.4.0)\n",
      "Requirement already satisfied: grpcio<2.0,>=1.24.3 in c:\\programdata\\anaconda3\\lib\\site-packages (from tensorflow) (1.42.0)\n",
      "Requirement already satisfied: opt-einsum>=2.3.2 in c:\\users\\alex\\appdata\\roaming\\python\\python39\\site-packages (from tensorflow) (3.3.0)\n",
      "Requirement already satisfied: keras-preprocessing>=1.1.1 in c:\\users\\alex\\appdata\\roaming\\python\\python39\\site-packages (from tensorflow) (1.1.2)\n",
      "Requirement already satisfied: tensorflow-estimator<2.11,>=2.10.0 in c:\\users\\alex\\appdata\\roaming\\python\\python39\\site-packages (from tensorflow) (2.10.0)\n",
      "Requirement already satisfied: packaging in c:\\programdata\\anaconda3\\lib\\site-packages (from tensorflow) (21.3)\n",
      "Requirement already satisfied: google-pasta>=0.1.1 in c:\\users\\alex\\appdata\\roaming\\python\\python39\\site-packages (from tensorflow) (0.2.0)\n",
      "Requirement already satisfied: astunparse>=1.6.0 in c:\\users\\alex\\appdata\\roaming\\python\\python39\\site-packages (from tensorflow) (1.6.3)\n",
      "Requirement already satisfied: protobuf<3.20,>=3.9.2 in c:\\programdata\\anaconda3\\lib\\site-packages (from tensorflow) (3.19.1)\n",
      "Requirement already satisfied: numpy>=1.20 in c:\\programdata\\anaconda3\\lib\\site-packages (from tensorflow) (1.21.5)\n",
      "Requirement already satisfied: libclang>=13.0.0 in c:\\users\\alex\\appdata\\roaming\\python\\python39\\site-packages (from tensorflow) (14.0.6)\n",
      "Requirement already satisfied: tensorboard<2.11,>=2.10 in c:\\users\\alex\\appdata\\roaming\\python\\python39\\site-packages (from tensorflow) (2.10.0)\n",
      "Requirement already satisfied: absl-py>=1.0.0 in c:\\users\\alex\\appdata\\roaming\\python\\python39\\site-packages (from tensorflow) (1.2.0)\n",
      "Requirement already satisfied: typing-extensions>=3.6.6 in c:\\programdata\\anaconda3\\lib\\site-packages (from tensorflow) (4.1.1)\n",
      "Requirement already satisfied: keras<2.11,>=2.10.0 in c:\\users\\alex\\appdata\\roaming\\python\\python39\\site-packages (from tensorflow) (2.10.0)\n",
      "Requirement already satisfied: wrapt>=1.11.0 in c:\\programdata\\anaconda3\\lib\\site-packages (from tensorflow) (1.12.1)\n",
      "Requirement already satisfied: setuptools in c:\\programdata\\anaconda3\\lib\\site-packages (from tensorflow) (61.2.0)\n",
      "Requirement already satisfied: termcolor>=1.1.0 in c:\\users\\alex\\appdata\\roaming\\python\\python39\\site-packages (from tensorflow) (2.0.0)\n",
      "Requirement already satisfied: tensorflow-io-gcs-filesystem>=0.23.1 in c:\\users\\alex\\appdata\\roaming\\python\\python39\\site-packages (from tensorflow) (0.27.0)\n",
      "Requirement already satisfied: flatbuffers>=2.0 in c:\\users\\alex\\appdata\\roaming\\python\\python39\\site-packages (from tensorflow) (2.0.7)\n",
      "Requirement already satisfied: h5py>=2.9.0 in c:\\programdata\\anaconda3\\lib\\site-packages (from tensorflow) (3.6.0)\n",
      "Requirement already satisfied: wheel<1.0,>=0.23.0 in c:\\programdata\\anaconda3\\lib\\site-packages (from astunparse>=1.6.0->tensorflow) (0.37.1)\n",
      "Requirement already satisfied: tensorboard-data-server<0.7.0,>=0.6.0 in c:\\users\\alex\\appdata\\roaming\\python\\python39\\site-packages (from tensorboard<2.11,>=2.10->tensorflow) (0.6.1)\n",
      "Requirement already satisfied: google-auth-oauthlib<0.5,>=0.4.1 in c:\\users\\alex\\appdata\\roaming\\python\\python39\\site-packages (from tensorboard<2.11,>=2.10->tensorflow) (0.4.6)\n",
      "Requirement already satisfied: markdown>=2.6.8 in c:\\programdata\\anaconda3\\lib\\site-packages (from tensorboard<2.11,>=2.10->tensorflow) (3.3.4)\n",
      "Requirement already satisfied: requests<3,>=2.21.0 in c:\\programdata\\anaconda3\\lib\\site-packages (from tensorboard<2.11,>=2.10->tensorflow) (2.27.1)\n",
      "Requirement already satisfied: werkzeug>=1.0.1 in c:\\programdata\\anaconda3\\lib\\site-packages (from tensorboard<2.11,>=2.10->tensorflow) (2.0.3)\n",
      "Requirement already satisfied: tensorboard-plugin-wit>=1.6.0 in c:\\users\\alex\\appdata\\roaming\\python\\python39\\site-packages (from tensorboard<2.11,>=2.10->tensorflow) (1.8.1)\n",
      "Requirement already satisfied: google-auth<3,>=1.6.3 in c:\\programdata\\anaconda3\\lib\\site-packages (from tensorboard<2.11,>=2.10->tensorflow) (1.33.0)\n",
      "Requirement already satisfied: pyasn1-modules>=0.2.1 in c:\\programdata\\anaconda3\\lib\\site-packages (from google-auth<3,>=1.6.3->tensorboard<2.11,>=2.10->tensorflow) (0.2.8)\n",
      "Requirement already satisfied: rsa<5,>=3.1.4 in c:\\programdata\\anaconda3\\lib\\site-packages (from google-auth<3,>=1.6.3->tensorboard<2.11,>=2.10->tensorflow) (4.7.2)\n",
      "Requirement already satisfied: cachetools<5.0,>=2.0.0 in c:\\programdata\\anaconda3\\lib\\site-packages (from google-auth<3,>=1.6.3->tensorboard<2.11,>=2.10->tensorflow) (4.2.2)\n",
      "Requirement already satisfied: requests-oauthlib>=0.7.0 in c:\\users\\alex\\appdata\\roaming\\python\\python39\\site-packages (from google-auth-oauthlib<0.5,>=0.4.1->tensorboard<2.11,>=2.10->tensorflow) (1.3.1)\n",
      "Requirement already satisfied: pyasn1<0.5.0,>=0.4.6 in c:\\programdata\\anaconda3\\lib\\site-packages (from pyasn1-modules>=0.2.1->google-auth<3,>=1.6.3->tensorboard<2.11,>=2.10->tensorflow) (0.4.8)\n",
      "Requirement already satisfied: urllib3<1.27,>=1.21.1 in c:\\programdata\\anaconda3\\lib\\site-packages (from requests<3,>=2.21.0->tensorboard<2.11,>=2.10->tensorflow) (1.26.9)\n",
      "Requirement already satisfied: certifi>=2017.4.17 in c:\\programdata\\anaconda3\\lib\\site-packages (from requests<3,>=2.21.0->tensorboard<2.11,>=2.10->tensorflow) (2021.10.8)\n",
      "Requirement already satisfied: idna<4,>=2.5 in c:\\programdata\\anaconda3\\lib\\site-packages (from requests<3,>=2.21.0->tensorboard<2.11,>=2.10->tensorflow) (3.3)\n",
      "Requirement already satisfied: charset-normalizer~=2.0.0 in c:\\programdata\\anaconda3\\lib\\site-packages (from requests<3,>=2.21.0->tensorboard<2.11,>=2.10->tensorflow) (2.0.4)\n",
      "Requirement already satisfied: oauthlib>=3.0.0 in c:\\users\\alex\\appdata\\roaming\\python\\python39\\site-packages (from requests-oauthlib>=0.7.0->google-auth-oauthlib<0.5,>=0.4.1->tensorboard<2.11,>=2.10->tensorflow) (3.2.1)\n",
      "Requirement already satisfied: pyparsing!=3.0.5,>=2.0.2 in c:\\programdata\\anaconda3\\lib\\site-packages (from packaging->tensorflow) (3.0.4)\n",
      "Note: you may need to restart the kernel to use updated packages.\n"
     ]
    }
   ],
   "source": [
    "pip install --upgrade tensorflow"
   ]
  },
  {
   "cell_type": "code",
   "execution_count": 3,
   "metadata": {},
   "outputs": [],
   "source": [
    "from keras.models import Sequential\n",
    "from keras.layers import Dense\n",
    "\n",
    "# define the Keras model\n",
    "model = Sequential()\n",
    "model.add(Dense(12, input_dim = 8, activation = 'relu'))\n",
    "model.add(Dense(8, activation = 'relu'))\n",
    "model.add(Dense(1, activation = 'sigmoid'))"
   ]
  },
  {
   "cell_type": "markdown",
   "metadata": {},
   "source": [
    "---\n",
    "<div style=\"text-align: right\"> <font size=5> <a href=\"#indice\"><i class=\"fa fa-arrow-circle-up\" aria-hidden=\"true\" style=\"color:#004D7F\"></i></a></font></div>\n",
    "\n",
    "---"
   ]
  },
  {
   "cell_type": "markdown",
   "metadata": {},
   "source": [
    "<a id=\"section4\"></a>\n",
    "# <font color=\"#004D7F\" size=6>4. Compilar modelo</font>"
   ]
  },
  {
   "cell_type": "markdown",
   "metadata": {},
   "source": [
    "Ahora que el modelo está definido, podemos compilarlo. \n",
    "\n",
    "Al compilar, debemos especificar algunas propiedades adicionales requeridas al entrenar la red. \n",
    "\n",
    "Debemos especificar:\n",
    "1. La función de pérdida que se utilizará para evaluar un conjunto de ponderaciones, \n",
    "2. El optimizador utilizado para buscar entre diferentes ponderaciones para la red y\n",
    "3. Cualquier métrica opcional que nos gustaría recopilar e informar durante el entrenamiento. \n",
    "    * En este caso usaremos la **pérdida logarítmica**, que para un problema de clasificación binaria se define como `binary_crossentropy`. \n",
    "4. También usaremos el algoritmo de Gradiente Descendiente `adam` \n",
    "5. Finalmente, debido a que es un problema de clasificación nuestra métrica será el Accuracy."
   ]
  },
  {
   "cell_type": "markdown",
   "metadata": {},
   "source": [
    "<div class=\"alert alert-block alert-info\">\n",
    "    \n",
    "<i class=\"fa fa-info-circle\" aria-hidden=\"true\"></i>\n",
    "Obtenga más información sobre el algoritmo de optimización de Adam en el artículo [_Adam: A Method for Stochastic Optimization_](https://arxiv.org/abs/1412.6980)"
   ]
  },
  {
   "cell_type": "code",
   "execution_count": 4,
   "metadata": {},
   "outputs": [],
   "source": [
    "## Compile the keras model\n",
    "model.compile(loss = 'binary_crossentropy', optimizer='adam', metrics=['accuracy'])"
   ]
  },
  {
   "cell_type": "markdown",
   "metadata": {},
   "source": [
    "---\n",
    "<div style=\"text-align: right\"> <font size=5> <a href=\"#indice\"><i class=\"fa fa-arrow-circle-up\" aria-hidden=\"true\" style=\"color:#004D7F\"></i></a></font></div>\n",
    "\n",
    "---"
   ]
  },
  {
   "cell_type": "markdown",
   "metadata": {},
   "source": [
    "<a id=\"section5\"></a>\n",
    "# <font color=\"#004D7F\" size=6>5. Ajustar modelo</font>"
   ]
  },
  {
   "cell_type": "markdown",
   "metadata": {},
   "source": [
    "Hemos definido nuestro modelo y lo hemos compilado listo para un cálculo eficiente. Ahora es el momento de ejecutar el modelo en algunos datos llamando a la función `fit()`.\n",
    "* El proceso de entrenamiento se ejecutará para un número fijo de iteraciones usando el argumento `epochs`. \n",
    "* También podemos establecer el número de instancias que se evalúan antes de que se realice una actualización de peso en la red, denominada tamaño de batch, y se establece mediante el argumento `batch_size`. "
   ]
  },
  {
   "cell_type": "code",
   "execution_count": 5,
   "metadata": {
    "scrolled": true
   },
   "outputs": [
    {
     "name": "stdout",
     "output_type": "stream",
     "text": [
      "Epoch 1/150\n",
      "48/48 [==============================] - 1s 709us/step - loss: 35.7117 - accuracy: 0.6497\n",
      "Epoch 2/150\n",
      "48/48 [==============================] - 0s 604us/step - loss: 5.4294 - accuracy: 0.5820\n",
      "Epoch 3/150\n",
      "48/48 [==============================] - 0s 714us/step - loss: 2.2243 - accuracy: 0.5755\n",
      "Epoch 4/150\n",
      "48/48 [==============================] - 0s 593us/step - loss: 1.4321 - accuracy: 0.5664\n",
      "Epoch 5/150\n",
      "48/48 [==============================] - 0s 693us/step - loss: 1.2108 - accuracy: 0.5599\n",
      "Epoch 6/150\n",
      "48/48 [==============================] - 0s 608us/step - loss: 1.0516 - accuracy: 0.5677\n",
      "Epoch 7/150\n",
      "48/48 [==============================] - 0s 702us/step - loss: 0.9662 - accuracy: 0.6081\n",
      "Epoch 8/150\n",
      "48/48 [==============================] - 0s 642us/step - loss: 0.9495 - accuracy: 0.5898\n",
      "Epoch 9/150\n",
      "48/48 [==============================] - 0s 695us/step - loss: 0.8646 - accuracy: 0.6081\n",
      "Epoch 10/150\n",
      "48/48 [==============================] - 0s 770us/step - loss: 0.9458 - accuracy: 0.6120\n",
      "Epoch 11/150\n",
      "48/48 [==============================] - 0s 596us/step - loss: 0.8391 - accuracy: 0.6016\n",
      "Epoch 12/150\n",
      "48/48 [==============================] - 0s 681us/step - loss: 0.7957 - accuracy: 0.6263\n",
      "Epoch 13/150\n",
      "48/48 [==============================] - 0s 623us/step - loss: 0.8615 - accuracy: 0.6172\n",
      "Epoch 14/150\n",
      "48/48 [==============================] - 0s 727us/step - loss: 0.8697 - accuracy: 0.6094\n",
      "Epoch 15/150\n",
      "48/48 [==============================] - 0s 769us/step - loss: 0.8169 - accuracy: 0.6133\n",
      "Epoch 16/150\n",
      "48/48 [==============================] - 0s 703us/step - loss: 0.7395 - accuracy: 0.6875\n",
      "Epoch 17/150\n",
      "48/48 [==============================] - 0s 640us/step - loss: 0.7102 - accuracy: 0.6693\n",
      "Epoch 18/150\n",
      "48/48 [==============================] - 0s 715us/step - loss: 0.7547 - accuracy: 0.6510\n",
      "Epoch 19/150\n",
      "48/48 [==============================] - 0s 635us/step - loss: 0.7089 - accuracy: 0.6693\n",
      "Epoch 20/150\n",
      "48/48 [==============================] - 0s 743us/step - loss: 0.7470 - accuracy: 0.6536\n",
      "Epoch 21/150\n",
      "48/48 [==============================] - 0s 654us/step - loss: 0.7600 - accuracy: 0.6589\n",
      "Epoch 22/150\n",
      "48/48 [==============================] - 0s 741us/step - loss: 0.8372 - accuracy: 0.6315\n",
      "Epoch 23/150\n",
      "48/48 [==============================] - 0s 673us/step - loss: 0.6921 - accuracy: 0.6784\n",
      "Epoch 24/150\n",
      "48/48 [==============================] - 0s 619us/step - loss: 0.6908 - accuracy: 0.6875\n",
      "Epoch 25/150\n",
      "48/48 [==============================] - 0s 698us/step - loss: 0.7288 - accuracy: 0.6758\n",
      "Epoch 26/150\n",
      "48/48 [==============================] - 0s 791us/step - loss: 0.6968 - accuracy: 0.6836\n",
      "Epoch 27/150\n",
      "48/48 [==============================] - 0s 666us/step - loss: 0.8696 - accuracy: 0.5911\n",
      "Epoch 28/150\n",
      "48/48 [==============================] - 0s 732us/step - loss: 0.7292 - accuracy: 0.6784\n",
      "Epoch 29/150\n",
      "48/48 [==============================] - 0s 710us/step - loss: 0.7534 - accuracy: 0.6589\n",
      "Epoch 30/150\n",
      "48/48 [==============================] - 0s 708us/step - loss: 0.6547 - accuracy: 0.6979\n",
      "Epoch 31/150\n",
      "48/48 [==============================] - 0s 886us/step - loss: 0.6890 - accuracy: 0.6758\n",
      "Epoch 32/150\n",
      "48/48 [==============================] - 0s 712us/step - loss: 0.7552 - accuracy: 0.6654\n",
      "Epoch 33/150\n",
      "48/48 [==============================] - 0s 710us/step - loss: 0.6728 - accuracy: 0.6706\n",
      "Epoch 34/150\n",
      "48/48 [==============================] - 0s 780us/step - loss: 0.6755 - accuracy: 0.6797\n",
      "Epoch 35/150\n",
      "48/48 [==============================] - 0s 725us/step - loss: 0.6512 - accuracy: 0.6953\n",
      "Epoch 36/150\n",
      "48/48 [==============================] - 0s 731us/step - loss: 0.6525 - accuracy: 0.6927\n",
      "Epoch 37/150\n",
      "48/48 [==============================] - 0s 735us/step - loss: 0.7057 - accuracy: 0.6667\n",
      "Epoch 38/150\n",
      "48/48 [==============================] - 0s 731us/step - loss: 0.7228 - accuracy: 0.6667\n",
      "Epoch 39/150\n",
      "48/48 [==============================] - 0s 737us/step - loss: 0.6988 - accuracy: 0.6862\n",
      "Epoch 40/150\n",
      "48/48 [==============================] - 0s 674us/step - loss: 0.6460 - accuracy: 0.6927\n",
      "Epoch 41/150\n",
      "48/48 [==============================] - 0s 638us/step - loss: 0.6594 - accuracy: 0.6732\n",
      "Epoch 42/150\n",
      "48/48 [==============================] - 0s 769us/step - loss: 0.6672 - accuracy: 0.6875\n",
      "Epoch 43/150\n",
      "48/48 [==============================] - 0s 844us/step - loss: 0.6848 - accuracy: 0.6615\n",
      "Epoch 44/150\n",
      "48/48 [==============================] - 0s 849us/step - loss: 0.6155 - accuracy: 0.7070\n",
      "Epoch 45/150\n",
      "48/48 [==============================] - 0s 852us/step - loss: 0.6492 - accuracy: 0.6953\n",
      "Epoch 46/150\n",
      "48/48 [==============================] - 0s 709us/step - loss: 0.6948 - accuracy: 0.6654\n",
      "Epoch 47/150\n",
      "48/48 [==============================] - 0s 882us/step - loss: 0.6467 - accuracy: 0.6784\n",
      "Epoch 48/150\n",
      "48/48 [==============================] - 0s 652us/step - loss: 0.8598 - accuracy: 0.6276\n",
      "Epoch 49/150\n",
      "48/48 [==============================] - 0s 866us/step - loss: 0.7029 - accuracy: 0.6693\n",
      "Epoch 50/150\n",
      "48/48 [==============================] - 0s 859us/step - loss: 0.6997 - accuracy: 0.6836\n",
      "Epoch 51/150\n",
      "48/48 [==============================] - 0s 894us/step - loss: 0.6759 - accuracy: 0.6745\n",
      "Epoch 52/150\n",
      "48/48 [==============================] - 0s 821us/step - loss: 0.6598 - accuracy: 0.6940\n",
      "Epoch 53/150\n",
      "48/48 [==============================] - 0s 786us/step - loss: 0.6166 - accuracy: 0.7018\n",
      "Epoch 54/150\n",
      "48/48 [==============================] - 0s 873us/step - loss: 0.6791 - accuracy: 0.6745\n",
      "Epoch 55/150\n",
      "48/48 [==============================] - 0s 885us/step - loss: 0.6542 - accuracy: 0.6953\n",
      "Epoch 56/150\n",
      "48/48 [==============================] - 0s 855us/step - loss: 0.6980 - accuracy: 0.6888\n",
      "Epoch 57/150\n",
      "48/48 [==============================] - 0s 711us/step - loss: 0.6659 - accuracy: 0.6888\n",
      "Epoch 58/150\n",
      "48/48 [==============================] - 0s 702us/step - loss: 0.6793 - accuracy: 0.6745\n",
      "Epoch 59/150\n",
      "48/48 [==============================] - 0s 713us/step - loss: 0.6358 - accuracy: 0.7044\n",
      "Epoch 60/150\n",
      "48/48 [==============================] - 0s 733us/step - loss: 0.6448 - accuracy: 0.6862\n",
      "Epoch 61/150\n",
      "48/48 [==============================] - 0s 890us/step - loss: 0.6375 - accuracy: 0.6953\n",
      "Epoch 62/150\n",
      "48/48 [==============================] - 0s 858us/step - loss: 0.6144 - accuracy: 0.6953\n",
      "Epoch 63/150\n",
      "48/48 [==============================] - 0s 723us/step - loss: 0.6873 - accuracy: 0.7057\n",
      "Epoch 64/150\n",
      "48/48 [==============================] - 0s 823us/step - loss: 0.6472 - accuracy: 0.7188\n",
      "Epoch 65/150\n",
      "48/48 [==============================] - 0s 744us/step - loss: 0.6518 - accuracy: 0.7018\n",
      "Epoch 66/150\n",
      "48/48 [==============================] - 0s 773us/step - loss: 0.6473 - accuracy: 0.6953\n",
      "Epoch 67/150\n",
      "48/48 [==============================] - 0s 753us/step - loss: 0.6468 - accuracy: 0.6901\n",
      "Epoch 68/150\n",
      "48/48 [==============================] - 0s 745us/step - loss: 0.6504 - accuracy: 0.6953\n",
      "Epoch 69/150\n",
      "48/48 [==============================] - 0s 748us/step - loss: 0.6365 - accuracy: 0.6979\n",
      "Epoch 70/150\n",
      "48/48 [==============================] - 0s 765us/step - loss: 0.6920 - accuracy: 0.6732\n",
      "Epoch 71/150\n",
      "48/48 [==============================] - 0s 611us/step - loss: 0.6678 - accuracy: 0.7031\n",
      "Epoch 72/150\n",
      "48/48 [==============================] - 0s 655us/step - loss: 0.5970 - accuracy: 0.7227\n",
      "Epoch 73/150\n",
      "48/48 [==============================] - 0s 732us/step - loss: 0.6117 - accuracy: 0.7109\n",
      "Epoch 74/150\n",
      "48/48 [==============================] - 0s 746us/step - loss: 0.6190 - accuracy: 0.7031\n",
      "Epoch 75/150\n",
      "48/48 [==============================] - 0s 626us/step - loss: 0.6636 - accuracy: 0.6914\n",
      "Epoch 76/150\n",
      "48/48 [==============================] - 0s 694us/step - loss: 0.7295 - accuracy: 0.6745\n",
      "Epoch 77/150\n",
      "48/48 [==============================] - 0s 751us/step - loss: 0.7450 - accuracy: 0.6680\n",
      "Epoch 78/150\n",
      "48/48 [==============================] - 0s 625us/step - loss: 0.6007 - accuracy: 0.7240\n",
      "Epoch 79/150\n",
      "48/48 [==============================] - 0s 693us/step - loss: 0.6081 - accuracy: 0.7109\n",
      "Epoch 80/150\n",
      "48/48 [==============================] - 0s 752us/step - loss: 0.6056 - accuracy: 0.7266\n",
      "Epoch 81/150\n",
      "48/48 [==============================] - 0s 769us/step - loss: 0.6016 - accuracy: 0.7109\n",
      "Epoch 82/150\n",
      "48/48 [==============================] - 0s 689us/step - loss: 0.6972 - accuracy: 0.6914\n",
      "Epoch 83/150\n",
      "48/48 [==============================] - 0s 723us/step - loss: 0.5768 - accuracy: 0.7331\n",
      "Epoch 84/150\n",
      "48/48 [==============================] - 0s 653us/step - loss: 0.5808 - accuracy: 0.7279\n",
      "Epoch 85/150\n",
      "48/48 [==============================] - 0s 726us/step - loss: 0.5670 - accuracy: 0.7266\n",
      "Epoch 86/150\n",
      "48/48 [==============================] - 0s 716us/step - loss: 0.6147 - accuracy: 0.7122\n",
      "Epoch 87/150\n",
      "48/48 [==============================] - 0s 578us/step - loss: 0.6356 - accuracy: 0.7044\n",
      "Epoch 88/150\n",
      "48/48 [==============================] - 0s 677us/step - loss: 0.6384 - accuracy: 0.7148\n",
      "Epoch 89/150\n",
      "48/48 [==============================] - 0s 749us/step - loss: 0.6621 - accuracy: 0.6927\n",
      "Epoch 90/150\n",
      "48/48 [==============================] - 0s 737us/step - loss: 0.6717 - accuracy: 0.6797\n",
      "Epoch 91/150\n",
      "48/48 [==============================] - 0s 641us/step - loss: 0.6194 - accuracy: 0.7057\n",
      "Epoch 92/150\n",
      "48/48 [==============================] - 0s 742us/step - loss: 0.6344 - accuracy: 0.7109\n",
      "Epoch 93/150\n",
      "48/48 [==============================] - 0s 653us/step - loss: 0.6243 - accuracy: 0.6901\n",
      "Epoch 94/150\n",
      "48/48 [==============================] - 0s 720us/step - loss: 0.5853 - accuracy: 0.7188\n",
      "Epoch 95/150\n",
      "48/48 [==============================] - 0s 691us/step - loss: 0.5823 - accuracy: 0.7266\n",
      "Epoch 96/150\n",
      "48/48 [==============================] - 0s 587us/step - loss: 0.6119 - accuracy: 0.7122\n",
      "Epoch 97/150\n",
      "48/48 [==============================] - 0s 707us/step - loss: 0.5791 - accuracy: 0.7279\n",
      "Epoch 98/150\n",
      "48/48 [==============================] - 0s 642us/step - loss: 0.6108 - accuracy: 0.6992\n",
      "Epoch 99/150\n",
      "48/48 [==============================] - 0s 720us/step - loss: 0.6770 - accuracy: 0.6953\n",
      "Epoch 100/150\n",
      "48/48 [==============================] - 0s 674us/step - loss: 0.5761 - accuracy: 0.7266\n",
      "Epoch 101/150\n",
      "48/48 [==============================] - 0s 590us/step - loss: 0.5611 - accuracy: 0.7318\n",
      "Epoch 102/150\n",
      "48/48 [==============================] - 0s 710us/step - loss: 0.6140 - accuracy: 0.7161\n",
      "Epoch 103/150\n",
      "48/48 [==============================] - 0s 647us/step - loss: 0.6399 - accuracy: 0.7044\n",
      "Epoch 104/150\n",
      "48/48 [==============================] - 0s 735us/step - loss: 0.5599 - accuracy: 0.7253\n",
      "Epoch 105/150\n",
      "48/48 [==============================] - 0s 704us/step - loss: 0.5979 - accuracy: 0.7135\n",
      "Epoch 106/150\n",
      "48/48 [==============================] - 0s 611us/step - loss: 0.5542 - accuracy: 0.7331\n",
      "Epoch 107/150\n",
      "48/48 [==============================] - 0s 711us/step - loss: 0.5603 - accuracy: 0.7357\n",
      "Epoch 108/150\n",
      "48/48 [==============================] - 0s 599us/step - loss: 0.5846 - accuracy: 0.7148\n",
      "Epoch 109/150\n",
      "48/48 [==============================] - 0s 736us/step - loss: 0.6106 - accuracy: 0.7188\n",
      "Epoch 110/150\n",
      "48/48 [==============================] - 0s 639us/step - loss: 0.5808 - accuracy: 0.7214\n",
      "Epoch 111/150\n",
      "48/48 [==============================] - 0s 730us/step - loss: 0.5556 - accuracy: 0.7370\n",
      "Epoch 112/150\n",
      "48/48 [==============================] - 0s 678us/step - loss: 0.5642 - accuracy: 0.7161\n",
      "Epoch 113/150\n",
      "48/48 [==============================] - 0s 606us/step - loss: 0.5701 - accuracy: 0.7240\n",
      "Epoch 114/150\n",
      "48/48 [==============================] - 0s 716us/step - loss: 0.5697 - accuracy: 0.7435\n",
      "Epoch 115/150\n",
      "48/48 [==============================] - 0s 642us/step - loss: 0.5484 - accuracy: 0.7461\n",
      "Epoch 116/150\n",
      "48/48 [==============================] - 0s 719us/step - loss: 0.6163 - accuracy: 0.7253\n",
      "Epoch 117/150\n",
      "48/48 [==============================] - 0s 668us/step - loss: 0.6257 - accuracy: 0.7161\n",
      "Epoch 118/150\n",
      "48/48 [==============================] - 0s 715us/step - loss: 0.5656 - accuracy: 0.7513\n",
      "Epoch 119/150\n",
      "48/48 [==============================] - 0s 666us/step - loss: 0.6577 - accuracy: 0.6979\n",
      "Epoch 120/150\n",
      "48/48 [==============================] - 0s 883us/step - loss: 0.5881 - accuracy: 0.7161\n",
      "Epoch 121/150\n",
      "48/48 [==============================] - 0s 708us/step - loss: 0.5752 - accuracy: 0.7383\n",
      "Epoch 122/150\n",
      "48/48 [==============================] - 0s 738us/step - loss: 0.5921 - accuracy: 0.7344\n",
      "Epoch 123/150\n",
      "48/48 [==============================] - 0s 709us/step - loss: 0.5502 - accuracy: 0.7591\n",
      "Epoch 124/150\n",
      "48/48 [==============================] - 0s 708us/step - loss: 0.5535 - accuracy: 0.7487\n",
      "Epoch 125/150\n",
      "48/48 [==============================] - 0s 887us/step - loss: 0.5871 - accuracy: 0.7188\n",
      "Epoch 126/150\n",
      "48/48 [==============================] - 0s 708us/step - loss: 0.5948 - accuracy: 0.7122\n",
      "Epoch 127/150\n",
      "48/48 [==============================] - 0s 885us/step - loss: 0.6417 - accuracy: 0.6901\n",
      "Epoch 128/150\n",
      "48/48 [==============================] - 0s 710us/step - loss: 0.5577 - accuracy: 0.7370\n",
      "Epoch 129/150\n",
      "48/48 [==============================] - 0s 710us/step - loss: 0.5459 - accuracy: 0.7565\n",
      "Epoch 130/150\n",
      "48/48 [==============================] - 0s 855us/step - loss: 0.5869 - accuracy: 0.7214\n",
      "Epoch 131/150\n",
      "48/48 [==============================] - 0s 710us/step - loss: 0.6155 - accuracy: 0.7201\n",
      "Epoch 132/150\n",
      "48/48 [==============================] - 0s 888us/step - loss: 0.6015 - accuracy: 0.7161\n",
      "Epoch 133/150\n",
      "48/48 [==============================] - 0s 708us/step - loss: 0.5520 - accuracy: 0.7396\n",
      "Epoch 134/150\n",
      "48/48 [==============================] - 0s 732us/step - loss: 0.6231 - accuracy: 0.7188\n",
      "Epoch 135/150\n",
      "48/48 [==============================] - 0s 617us/step - loss: 0.5536 - accuracy: 0.7331\n",
      "Epoch 136/150\n",
      "48/48 [==============================] - 0s 728us/step - loss: 0.5429 - accuracy: 0.7500\n",
      "Epoch 137/150\n",
      "48/48 [==============================] - 0s 693us/step - loss: 0.5665 - accuracy: 0.7240\n",
      "Epoch 138/150\n",
      "48/48 [==============================] - 0s 599us/step - loss: 0.5760 - accuracy: 0.7435\n",
      "Epoch 139/150\n",
      "48/48 [==============================] - 0s 715us/step - loss: 0.5835 - accuracy: 0.7344\n",
      "Epoch 140/150\n",
      "48/48 [==============================] - 0s 643us/step - loss: 0.5431 - accuracy: 0.7435\n",
      "Epoch 141/150\n",
      "48/48 [==============================] - 0s 729us/step - loss: 0.5347 - accuracy: 0.7448\n",
      "Epoch 142/150\n",
      "48/48 [==============================] - 0s 697us/step - loss: 0.5578 - accuracy: 0.7318\n",
      "Epoch 143/150\n",
      "48/48 [==============================] - 0s 603us/step - loss: 0.5251 - accuracy: 0.7539\n",
      "Epoch 144/150\n",
      "48/48 [==============================] - 0s 655us/step - loss: 0.5462 - accuracy: 0.7318\n",
      "Epoch 145/150\n",
      "48/48 [==============================] - 0s 724us/step - loss: 0.5489 - accuracy: 0.7331\n",
      "Epoch 146/150\n",
      "48/48 [==============================] - 0s 688us/step - loss: 0.5752 - accuracy: 0.7240\n",
      "Epoch 147/150\n",
      "48/48 [==============================] - 0s 741us/step - loss: 0.5570 - accuracy: 0.7513\n",
      "Epoch 148/150\n",
      "48/48 [==============================] - 0s 716us/step - loss: 0.5223 - accuracy: 0.7591\n",
      "Epoch 149/150\n",
      "48/48 [==============================] - 0s 656us/step - loss: 0.5494 - accuracy: 0.7461\n",
      "Epoch 150/150\n",
      "48/48 [==============================] - 0s 743us/step - loss: 0.5367 - accuracy: 0.7656\n"
     ]
    },
    {
     "data": {
      "text/plain": [
       "<keras.callbacks.History at 0x2c69ccebcd0>"
      ]
     },
     "execution_count": 5,
     "metadata": {},
     "output_type": "execute_result"
    }
   ],
   "source": [
    "# fit the model \n",
    "model.fit(X, y, epochs=150, batch_size=16)"
   ]
  },
  {
   "cell_type": "markdown",
   "metadata": {},
   "source": [
    "---\n",
    "<div style=\"text-align: right\"> <font size=5> <a href=\"#indice\"><i class=\"fa fa-arrow-circle-up\" aria-hidden=\"true\" style=\"color:#004D7F\"></i></a></font></div>\n",
    "\n",
    "---"
   ]
  },
  {
   "cell_type": "markdown",
   "metadata": {},
   "source": [
    "<a id=\"section6\"></a>\n",
    "# <font color=\"#004D7F\" size=6>6. Evaluar modelo</font>"
   ]
  },
  {
   "cell_type": "markdown",
   "metadata": {},
   "source": [
    "Podemos evaluar tu modelo en tu conjunto de datos de entrenamiento usando la función de `evaluation()` y pasar la misma entrada y salida que usaste para entrenar el modelo."
   ]
  },
  {
   "cell_type": "code",
   "execution_count": 6,
   "metadata": {},
   "outputs": [
    {
     "name": "stdout",
     "output_type": "stream",
     "text": [
      "24/24 [==============================] - 0s 989us/step - loss: 0.5236 - accuracy: 0.7422\n",
      "Accuracy: 74.22\n"
     ]
    }
   ],
   "source": [
    "_, accuracy = model.evaluate(X, y)\n",
    "print('Accuracy: %.2f' % (accuracy*100)) "
   ]
  },
  {
   "cell_type": "markdown",
   "metadata": {},
   "source": [
    "---\n",
    "<div style=\"text-align: right\"> <font size=5> <a href=\"#indice\"><i class=\"fa fa-arrow-circle-up\" aria-hidden=\"true\" style=\"color:#004D7F\"></i></a></font></div>\n",
    "\n",
    "---"
   ]
  },
  {
   "cell_type": "markdown",
   "metadata": {},
   "source": [
    "<a id=\"section7\"></a>\n",
    "# <font color=\"#004D7F\" size=6>7. Hacer predicciones</font>"
   ]
  },
  {
   "cell_type": "markdown",
   "metadata": {},
   "source": [
    "Podemos llamar a la función `predict_classes()` para predecir clases directamente, por ejemplo:"
   ]
  },
  {
   "cell_type": "code",
   "execution_count": 7,
   "metadata": {},
   "outputs": [],
   "source": [
    "import matplotlib.pyplot as plt"
   ]
  },
  {
   "cell_type": "code",
   "execution_count": 18,
   "metadata": {},
   "outputs": [
    {
     "name": "stdout",
     "output_type": "stream",
     "text": [
      "24/24 [==============================] - 0s 744us/step\n"
     ]
    }
   ],
   "source": [
    "predictions=model.predict(X) "
   ]
  },
  {
   "cell_type": "markdown",
   "metadata": {},
   "source": [
    "Veamos un ejemplo"
   ]
  },
  {
   "cell_type": "code",
   "execution_count": 24,
   "metadata": {},
   "outputs": [
    {
     "name": "stdout",
     "output_type": "stream",
     "text": [
      "[6.0, 148.0, 72.0, 35.0, 0.0, 33.6, 627.0, 50.0] --> 0 (real 1)\n",
      "[1.0, 85.0, 66.0, 29.0, 0.0, 26.6, 351.0, 31.0] --> 0 (real 0)\n",
      "[8.0, 183.0, 64.0, 0.0, 0.0, 23.3, 672.0, 32.0] --> 0 (real 1)\n",
      "[1.0, 89.0, 66.0, 23.0, 94.0, 28.1, 167.0, 21.0] --> 0 (real 0)\n",
      "[0.0, 137.0, 40.0, 35.0, 168.0, 43.1, 2288.0, 33.0] --> 0 (real 1)\n",
      "[5.0, 116.0, 74.0, 0.0, 0.0, 25.6, 201.0, 30.0] --> 0 (real 0)\n",
      "[3.0, 78.0, 50.0, 32.0, 88.0, 31.0, 248.0, 26.0] --> 0 (real 1)\n",
      "[10.0, 115.0, 0.0, 0.0, 0.0, 35.3, 134.0, 29.0] --> 0 (real 0)\n",
      "[2.0, 197.0, 70.0, 45.0, 543.0, 30.5, 158.0, 53.0] --> 0 (real 1)\n",
      "[8.0, 125.0, 96.0, 0.0, 0.0, 0.0, 232.0, 54.0] --> 0 (real 1)\n"
     ]
    }
   ],
   "source": [
    "for i in range(10):\n",
    "    print('%s --> %d (real %d)' % (X[i].tolist(), predictions[i], y[i]))"
   ]
  },
  {
   "cell_type": "markdown",
   "metadata": {},
   "source": [
    "Ejecutar el ejemplo no muestra la barra de progreso como antes, ya que hemos establecido el argumento `verbose` en 0. "
   ]
  },
  {
   "cell_type": "markdown",
   "metadata": {},
   "source": [
    "<div style=\"text-align: right\"> <font size=5> <a href=\"#indice\"><i class=\"fa fa-arrow-circle-up\" aria-hidden=\"true\" style=\"color:#004D7F\"></i></a></font></div>\n",
    "\n",
    "---\n",
    "\n",
    "<div style=\"text-align: right\"> <font size=6><i class=\"fa fa-coffee\" aria-hidden=\"true\" style=\"color:#004D7F\"></i> </font></div>"
   ]
  }
 ],
 "metadata": {
  "kernelspec": {
   "display_name": "Python 3 (ipykernel)",
   "language": "python",
   "name": "python3"
  },
  "language_info": {
   "codemirror_mode": {
    "name": "ipython",
    "version": 3
   },
   "file_extension": ".py",
   "mimetype": "text/x-python",
   "name": "python",
   "nbconvert_exporter": "python",
   "pygments_lexer": "ipython3",
   "version": "3.9.12"
  }
 },
 "nbformat": 4,
 "nbformat_minor": 2
}
