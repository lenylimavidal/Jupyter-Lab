{
 "cells": [
  {
   "cell_type": "markdown",
   "metadata": {},
   "source": [
    "<h1><font color=\"#113D68\" size=6>Deep Learning con Python y Keras</font></h1>\n",
    "\n",
    "<h1><font color=\"#113D68\" size=5>Multilayer Perceptron</font></h1>\n",
    "\n",
    "<h1><font color=\"#113D68\" size=4>Desarrollar una red neuronal</font></h1>\n",
    "\n"
   ]
  },
  {
   "cell_type": "markdown",
   "metadata": {},
   "source": [
    "---\n",
    "\n",
    "<a id=\"indice\"></a>\n",
    "<h2><font color=\"#004D7F\" size=5>Índice</font></h2>\n",
    "\n",
    "* [0. Contexto](#section0)\n",
    "* [1. Conjunto de datos](#section1)\n",
    "* [2. Cargar datos](#section2)\n",
    "* [3. Definir modelo](#section3)\n",
    "* [4. Compilar modelo](#section4)\n",
    "* [5. Ajustar modelo](#section5)\n",
    "* [6. Evaluar modelo](#section6)\n",
    "* [7. Hacer predicciones](#section7)\n"
   ]
  },
  {
   "cell_type": "markdown",
   "metadata": {},
   "source": [
    "---\n",
    "<a id=\"section0\"></a>\n",
    "# <font color=\"#004D7F\" size=6> 0. Contexto</font>"
   ]
  },
  {
   "cell_type": "markdown",
   "metadata": {},
   "source": [
    "Diseñaremos nuestra primera red neuronal.\n",
    "\n",
    "* Cómo cargar un conjunto de datos?\n",
    "* Cómo diseñar y compilar un modelo de perceptrón multicapa en Kera?\n",
    "* Cómo evaluar un modelo de Keras?"
   ]
  },
  {
   "cell_type": "markdown",
   "metadata": {},
   "source": [
    "---\n",
    "<div style=\"text-align: right\"> <font size=5> <a href=\"#indice\"><i class=\"fa fa-arrow-circle-up\" aria-hidden=\"true\" style=\"color:#004D7F\"></i></a></font></div>\n",
    "\n",
    "---"
   ]
  },
  {
   "cell_type": "markdown",
   "metadata": {},
   "source": [
    "<a id=\"section1\"></a>\n",
    "# <font color=\"#004D7F\" size=6>1. Conjunto de datos</font>"
   ]
  },
  {
   "cell_type": "markdown",
   "metadata": {},
   "source": [
    "En este tutorial vamos a utilizar el conjunto de datos Pima Indians Diabetes. Describe los datos de los registros médicos de los pacientes y si tuvieron una aparición de diabetes dentro de los cinco años. Es un problema de clasificación binaria (aparición de diabetes como 1 o 0 si no aparece). Las variables de entrada que describen a cada paciente son numéricas y tienen escalas variables.\n",
    "\n",
    "Dado que todos los atributos son numéricos, es fácil de usar directamente con redes neuronales que esperan entradas y valores de salida numéricos."
   ]
  },
  {
   "cell_type": "markdown",
   "metadata": {},
   "source": [
    "<div class=\"alert alert-block alert-info\">\n",
    "    \n",
    "<i class=\"fa fa-info-circle\" aria-hidden=\"true\"></i>\n",
    "Puede descargar el Dataset desde [Kaggle](https://www.kaggle.com/uciml/pima-indians-diabetes-database)"
   ]
  },
  {
   "cell_type": "markdown",
   "metadata": {},
   "source": [
    "La precisión de la línea de base si se hacen todas las predicciones ya que no aparece la diabetes es del 65,1%. Los mejores resultados en el conjunto de datos están en el rango de 77,7% de precisión utilizando una validación cruzada de 10 veces."
   ]
  },
  {
   "cell_type": "markdown",
   "metadata": {},
   "source": [
    "---\n",
    "<div style=\"text-align: right\"> <font size=5> <a href=\"#indice\"><i class=\"fa fa-arrow-circle-up\" aria-hidden=\"true\" style=\"color:#004D7F\"></i></a></font></div>\n",
    "\n",
    "---"
   ]
  },
  {
   "cell_type": "markdown",
   "metadata": {},
   "source": [
    "<a id=\"section2\"></a>\n",
    "# <font color=\"#004D7F\" size=6>2. Cargar datos</font>"
   ]
  },
  {
   "cell_type": "markdown",
   "metadata": {},
   "source": [
    "Vamos a cargar el archivo directamente usando la función `loadtxt()` de NumPy y establecer dividir las características y target."
   ]
  },
  {
   "cell_type": "code",
   "execution_count": 19,
   "metadata": {
    "scrolled": true
   },
   "outputs": [],
   "source": [
    "import numpy as np\n",
    "\n",
    "dataset = np.loadtxt('Datasets/pima-indians-diabetes.csv', delimiter=',')\n",
    "X = dataset[:, 0:8]\n",
    "y = dataset[:, 8]"
   ]
  },
  {
   "cell_type": "markdown",
   "metadata": {},
   "source": [
    "---\n",
    "<div style=\"text-align: right\"> <font size=5> <a href=\"#indice\"><i class=\"fa fa-arrow-circle-up\" aria-hidden=\"true\" style=\"color:#004D7F\"></i></a></font></div>\n",
    "\n",
    "---"
   ]
  },
  {
   "cell_type": "markdown",
   "metadata": {},
   "source": [
    "<a id=\"section3\"></a>\n",
    "# <font color=\"#004D7F\" size=6>3. Definir modelo</font>"
   ]
  },
  {
   "cell_type": "markdown",
   "metadata": {},
   "source": [
    "# Los modelos en Keras se definen como una secuencia de capas. Creamos un modelo **Secuencial** y agregamos capas de una en una hasta que estemos satisfechos con nuestra topología de red. \n",
    "\n",
    "Lo primero que debe hacer bien es asegurarse de que la capa de entrada tenga el número correcto de entradas. Esto se puede especificar al crear la primera capa con el argumento `input_dim` y establecerlo en 8. \n",
    "\n",
    "Pregunta, ¿Cómo sabemos la cantidad de capas que debemos usar y sus tipos? \n",
    "\n",
    "\n",
    "En sí el procedimiento a utilizar será:\n",
    "1. Las capas completamente conectadas se definen mediante la clase `Dense`. Se puede especificar:\n",
    "    * El número de neuronas en la capa como primer argumento y \n",
    "    * Especificar la función de activación usando el parámetro `activation`.\n",
    "2. Usaremos la función de activación ReLu en las dos primeras capas y la función de activación Sigmoidea en la capa de salida. \n",
    "3. Usamos una función de activación sigmoidea en la capa de salida para garantizar que la salida de nuestra red esté entre 0 y 1. \n",
    "\n",
    "La siguiente figura proporciona una descripción de la estructura de la red.\n",
    "\n",
    "\n",
    "<img src=\"images/2_redNeuronal.png\" width=\"200\" height=\"200\" />"
   ]
  },
  {
   "cell_type": "code",
   "execution_count": 20,
   "metadata": {},
   "outputs": [
    {
     "name": "stdout",
     "output_type": "stream",
     "text": [
      "Defaulting to user installation because normal site-packages is not writeable\n",
      "Requirement already satisfied: tensorflow in c:\\users\\alex\\appdata\\roaming\\python\\python39\\site-packages (2.10.0)\n",
      "Requirement already satisfied: six>=1.12.0 in c:\\programdata\\anaconda3\\lib\\site-packages (from tensorflow) (1.16.0)\n",
      "Requirement already satisfied: gast<=0.4.0,>=0.2.1 in c:\\users\\alex\\appdata\\roaming\\python\\python39\\site-packages (from tensorflow) (0.4.0)\n",
      "Requirement already satisfied: grpcio<2.0,>=1.24.3 in c:\\programdata\\anaconda3\\lib\\site-packages (from tensorflow) (1.42.0)\n",
      "Requirement already satisfied: opt-einsum>=2.3.2 in c:\\users\\alex\\appdata\\roaming\\python\\python39\\site-packages (from tensorflow) (3.3.0)\n",
      "Requirement already satisfied: keras-preprocessing>=1.1.1 in c:\\users\\alex\\appdata\\roaming\\python\\python39\\site-packages (from tensorflow) (1.1.2)\n",
      "Requirement already satisfied: tensorflow-estimator<2.11,>=2.10.0 in c:\\users\\alex\\appdata\\roaming\\python\\python39\\site-packages (from tensorflow) (2.10.0)\n",
      "Requirement already satisfied: packaging in c:\\programdata\\anaconda3\\lib\\site-packages (from tensorflow) (21.3)\n",
      "Requirement already satisfied: google-pasta>=0.1.1 in c:\\users\\alex\\appdata\\roaming\\python\\python39\\site-packages (from tensorflow) (0.2.0)\n",
      "Requirement already satisfied: astunparse>=1.6.0 in c:\\users\\alex\\appdata\\roaming\\python\\python39\\site-packages (from tensorflow) (1.6.3)\n",
      "Requirement already satisfied: protobuf<3.20,>=3.9.2 in c:\\programdata\\anaconda3\\lib\\site-packages (from tensorflow) (3.19.1)\n",
      "Requirement already satisfied: numpy>=1.20 in c:\\programdata\\anaconda3\\lib\\site-packages (from tensorflow) (1.21.5)\n",
      "Requirement already satisfied: libclang>=13.0.0 in c:\\users\\alex\\appdata\\roaming\\python\\python39\\site-packages (from tensorflow) (14.0.6)\n",
      "Requirement already satisfied: tensorboard<2.11,>=2.10 in c:\\users\\alex\\appdata\\roaming\\python\\python39\\site-packages (from tensorflow) (2.10.0)\n",
      "Requirement already satisfied: absl-py>=1.0.0 in c:\\users\\alex\\appdata\\roaming\\python\\python39\\site-packages (from tensorflow) (1.2.0)\n",
      "Requirement already satisfied: typing-extensions>=3.6.6 in c:\\programdata\\anaconda3\\lib\\site-packages (from tensorflow) (4.1.1)\n",
      "Requirement already satisfied: keras<2.11,>=2.10.0 in c:\\users\\alex\\appdata\\roaming\\python\\python39\\site-packages (from tensorflow) (2.10.0)\n",
      "Requirement already satisfied: wrapt>=1.11.0 in c:\\programdata\\anaconda3\\lib\\site-packages (from tensorflow) (1.12.1)\n",
      "Requirement already satisfied: setuptools in c:\\programdata\\anaconda3\\lib\\site-packages (from tensorflow) (61.2.0)\n",
      "Requirement already satisfied: termcolor>=1.1.0 in c:\\users\\alex\\appdata\\roaming\\python\\python39\\site-packages (from tensorflow) (2.0.0)\n",
      "Requirement already satisfied: tensorflow-io-gcs-filesystem>=0.23.1 in c:\\users\\alex\\appdata\\roaming\\python\\python39\\site-packages (from tensorflow) (0.27.0)\n",
      "Requirement already satisfied: flatbuffers>=2.0 in c:\\users\\alex\\appdata\\roaming\\python\\python39\\site-packages (from tensorflow) (2.0.7)\n",
      "Requirement already satisfied: h5py>=2.9.0 in c:\\programdata\\anaconda3\\lib\\site-packages (from tensorflow) (3.6.0)\n",
      "Requirement already satisfied: wheel<1.0,>=0.23.0 in c:\\programdata\\anaconda3\\lib\\site-packages (from astunparse>=1.6.0->tensorflow) (0.37.1)\n",
      "Requirement already satisfied: tensorboard-data-server<0.7.0,>=0.6.0 in c:\\users\\alex\\appdata\\roaming\\python\\python39\\site-packages (from tensorboard<2.11,>=2.10->tensorflow) (0.6.1)\n",
      "Requirement already satisfied: google-auth-oauthlib<0.5,>=0.4.1 in c:\\users\\alex\\appdata\\roaming\\python\\python39\\site-packages (from tensorboard<2.11,>=2.10->tensorflow) (0.4.6)\n",
      "Requirement already satisfied: markdown>=2.6.8 in c:\\programdata\\anaconda3\\lib\\site-packages (from tensorboard<2.11,>=2.10->tensorflow) (3.3.4)\n",
      "Requirement already satisfied: requests<3,>=2.21.0 in c:\\programdata\\anaconda3\\lib\\site-packages (from tensorboard<2.11,>=2.10->tensorflow) (2.27.1)\n",
      "Requirement already satisfied: werkzeug>=1.0.1 in c:\\programdata\\anaconda3\\lib\\site-packages (from tensorboard<2.11,>=2.10->tensorflow) (2.0.3)\n",
      "Requirement already satisfied: tensorboard-plugin-wit>=1.6.0 in c:\\users\\alex\\appdata\\roaming\\python\\python39\\site-packages (from tensorboard<2.11,>=2.10->tensorflow) (1.8.1)\n",
      "Requirement already satisfied: google-auth<3,>=1.6.3 in c:\\programdata\\anaconda3\\lib\\site-packages (from tensorboard<2.11,>=2.10->tensorflow) (1.33.0)\n",
      "Requirement already satisfied: pyasn1-modules>=0.2.1 in c:\\programdata\\anaconda3\\lib\\site-packages (from google-auth<3,>=1.6.3->tensorboard<2.11,>=2.10->tensorflow) (0.2.8)\n",
      "Requirement already satisfied: rsa<5,>=3.1.4 in c:\\programdata\\anaconda3\\lib\\site-packages (from google-auth<3,>=1.6.3->tensorboard<2.11,>=2.10->tensorflow) (4.7.2)\n",
      "Requirement already satisfied: cachetools<5.0,>=2.0.0 in c:\\programdata\\anaconda3\\lib\\site-packages (from google-auth<3,>=1.6.3->tensorboard<2.11,>=2.10->tensorflow) (4.2.2)\n",
      "Requirement already satisfied: requests-oauthlib>=0.7.0 in c:\\users\\alex\\appdata\\roaming\\python\\python39\\site-packages (from google-auth-oauthlib<0.5,>=0.4.1->tensorboard<2.11,>=2.10->tensorflow) (1.3.1)\n",
      "Requirement already satisfied: pyasn1<0.5.0,>=0.4.6 in c:\\programdata\\anaconda3\\lib\\site-packages (from pyasn1-modules>=0.2.1->google-auth<3,>=1.6.3->tensorboard<2.11,>=2.10->tensorflow) (0.4.8)\n",
      "Requirement already satisfied: urllib3<1.27,>=1.21.1 in c:\\programdata\\anaconda3\\lib\\site-packages (from requests<3,>=2.21.0->tensorboard<2.11,>=2.10->tensorflow) (1.26.9)\n",
      "Requirement already satisfied: certifi>=2017.4.17 in c:\\programdata\\anaconda3\\lib\\site-packages (from requests<3,>=2.21.0->tensorboard<2.11,>=2.10->tensorflow) (2021.10.8)\n",
      "Requirement already satisfied: idna<4,>=2.5 in c:\\programdata\\anaconda3\\lib\\site-packages (from requests<3,>=2.21.0->tensorboard<2.11,>=2.10->tensorflow) (3.3)\n",
      "Requirement already satisfied: charset-normalizer~=2.0.0 in c:\\programdata\\anaconda3\\lib\\site-packages (from requests<3,>=2.21.0->tensorboard<2.11,>=2.10->tensorflow) (2.0.4)\n",
      "Requirement already satisfied: oauthlib>=3.0.0 in c:\\users\\alex\\appdata\\roaming\\python\\python39\\site-packages (from requests-oauthlib>=0.7.0->google-auth-oauthlib<0.5,>=0.4.1->tensorboard<2.11,>=2.10->tensorflow) (3.2.1)\n",
      "Requirement already satisfied: pyparsing!=3.0.5,>=2.0.2 in c:\\programdata\\anaconda3\\lib\\site-packages (from packaging->tensorflow) (3.0.4)\n",
      "Note: you may need to restart the kernel to use updated packages.\n"
     ]
    }
   ],
   "source": [
    "pip install --upgrade tensorflow"
   ]
  },
  {
   "cell_type": "code",
   "execution_count": 21,
   "metadata": {},
   "outputs": [],
   "source": [
    "from keras.models import Sequential\n",
    "from keras.layers import Dense\n",
    "\n",
    "# define the Keras model\n",
    "model = Sequential()\n",
    "model.add(Dense(12, input_dim = 8, activation = 'relu'))\n",
    "model.add(Dense(8, activation = 'relu'))\n",
    "model.add(Dense(1, activation = 'sigmoid'))"
   ]
  },
  {
   "cell_type": "markdown",
   "metadata": {},
   "source": [
    "---\n",
    "<div style=\"text-align: right\"> <font size=5> <a href=\"#indice\"><i class=\"fa fa-arrow-circle-up\" aria-hidden=\"true\" style=\"color:#004D7F\"></i></a></font></div>\n",
    "\n",
    "---"
   ]
  },
  {
   "cell_type": "markdown",
   "metadata": {},
   "source": [
    "<a id=\"section4\"></a>\n",
    "# <font color=\"#004D7F\" size=6>4. Compilar modelo</font>"
   ]
  },
  {
   "cell_type": "markdown",
   "metadata": {},
   "source": [
    "Ahora que el modelo está definido, podemos compilarlo. \n",
    "\n",
    "Al compilar, debemos especificar algunas propiedades adicionales requeridas al entrenar la red. \n",
    "\n",
    "Debemos especificar:\n",
    "1. La función de pérdida que se utilizará para evaluar un conjunto de ponderaciones, \n",
    "2. El optimizador utilizado para buscar entre diferentes ponderaciones para la red y\n",
    "3. Cualquier métrica opcional que nos gustaría recopilar e informar durante el entrenamiento. \n",
    "    * En este caso usaremos la **pérdida logarítmica**, que para un problema de clasificación binaria se define como `binary_crossentropy`. \n",
    "4. También usaremos el algoritmo de Gradiente Descendiente `adam` \n",
    "5. Finalmente, debido a que es un problema de clasificación nuestra métrica será el Accuracy."
   ]
  },
  {
   "cell_type": "markdown",
   "metadata": {},
   "source": [
    "<div class=\"alert alert-block alert-info\">\n",
    "    \n",
    "<i class=\"fa fa-info-circle\" aria-hidden=\"true\"></i>\n",
    "Obtenga más información sobre el algoritmo de optimización de Adam en el artículo [_Adam: A Method for Stochastic Optimization_](https://arxiv.org/abs/1412.6980)"
   ]
  },
  {
   "cell_type": "code",
   "execution_count": 56,
   "metadata": {},
   "outputs": [],
   "source": [
    "## Compile the keras model\n",
    "model.compile(loss = 'binary_crossentropy', optimizer='adam', metrics=['accuracy'])"
   ]
  },
  {
   "cell_type": "markdown",
   "metadata": {},
   "source": [
    "---\n",
    "<div style=\"text-align: right\"> <font size=5> <a href=\"#indice\"><i class=\"fa fa-arrow-circle-up\" aria-hidden=\"true\" style=\"color:#004D7F\"></i></a></font></div>\n",
    "\n",
    "---"
   ]
  },
  {
   "cell_type": "markdown",
   "metadata": {},
   "source": [
    "<a id=\"section5\"></a>\n",
    "# <font color=\"#004D7F\" size=6>5. Ajustar modelo</font>"
   ]
  },
  {
   "cell_type": "markdown",
   "metadata": {},
   "source": [
    "Hemos definido nuestro modelo y lo hemos compilado listo para un cálculo eficiente. Ahora es el momento de ejecutar el modelo en algunos datos llamando a la función `fit()`.\n",
    "* El proceso de entrenamiento se ejecutará para un número fijo de iteraciones usando el argumento `epochs`. \n",
    "* También podemos establecer el número de instancias que se evalúan antes de que se realice una actualización de peso en la red, denominada tamaño de batch, y se establece mediante el argumento `batch_size`. "
   ]
  },
  {
   "cell_type": "code",
   "execution_count": 57,
   "metadata": {
    "scrolled": true
   },
   "outputs": [
    {
     "name": "stdout",
     "output_type": "stream",
     "text": [
      "Epoch 1/150\n",
      "48/48 [==============================] - 0s 809us/step - loss: 0.5038 - accuracy: 0.7578\n",
      "Epoch 2/150\n",
      "48/48 [==============================] - 0s 812us/step - loss: 0.4786 - accuracy: 0.7695\n",
      "Epoch 3/150\n",
      "48/48 [==============================] - 0s 823us/step - loss: 0.4677 - accuracy: 0.7878\n",
      "Epoch 4/150\n",
      "48/48 [==============================] - 0s 786us/step - loss: 0.4640 - accuracy: 0.7786\n",
      "Epoch 5/150\n",
      "48/48 [==============================] - 0s 801us/step - loss: 0.4723 - accuracy: 0.7786\n",
      "Epoch 6/150\n",
      "48/48 [==============================] - 0s 773us/step - loss: 0.4736 - accuracy: 0.7539\n",
      "Epoch 7/150\n",
      "48/48 [==============================] - 0s 791us/step - loss: 0.4694 - accuracy: 0.7721\n",
      "Epoch 8/150\n",
      "48/48 [==============================] - 0s 825us/step - loss: 0.4821 - accuracy: 0.7695\n",
      "Epoch 9/150\n",
      "48/48 [==============================] - 0s 790us/step - loss: 0.5195 - accuracy: 0.7474\n",
      "Epoch 10/150\n",
      "48/48 [==============================] - 0s 817us/step - loss: 0.4692 - accuracy: 0.7721\n",
      "Epoch 11/150\n",
      "48/48 [==============================] - 0s 830us/step - loss: 0.4756 - accuracy: 0.7526\n",
      "Epoch 12/150\n",
      "48/48 [==============================] - 0s 870us/step - loss: 0.4657 - accuracy: 0.7721\n",
      "Epoch 13/150\n",
      "48/48 [==============================] - 0s 830us/step - loss: 0.4684 - accuracy: 0.7799\n",
      "Epoch 14/150\n",
      "48/48 [==============================] - 0s 851us/step - loss: 0.5040 - accuracy: 0.7656\n",
      "Epoch 15/150\n",
      "48/48 [==============================] - 0s 873us/step - loss: 0.5171 - accuracy: 0.7604\n",
      "Epoch 16/150\n",
      "48/48 [==============================] - 0s 813us/step - loss: 0.4587 - accuracy: 0.7760\n",
      "Epoch 17/150\n",
      "48/48 [==============================] - 0s 790us/step - loss: 0.4668 - accuracy: 0.7760\n",
      "Epoch 18/150\n",
      "48/48 [==============================] - 0s 802us/step - loss: 0.4614 - accuracy: 0.7865\n",
      "Epoch 19/150\n",
      "48/48 [==============================] - 0s 773us/step - loss: 0.4764 - accuracy: 0.7721\n",
      "Epoch 20/150\n",
      "48/48 [==============================] - 0s 830us/step - loss: 0.5042 - accuracy: 0.7786\n",
      "Epoch 21/150\n",
      "48/48 [==============================] - 0s 841us/step - loss: 0.5075 - accuracy: 0.7487\n",
      "Epoch 22/150\n",
      "48/48 [==============================] - 0s 830us/step - loss: 0.4828 - accuracy: 0.7786\n",
      "Epoch 23/150\n",
      "48/48 [==============================] - 0s 851us/step - loss: 0.5024 - accuracy: 0.7617\n",
      "Epoch 24/150\n",
      "48/48 [==============================] - 0s 827us/step - loss: 0.4736 - accuracy: 0.7669\n",
      "Epoch 25/150\n",
      "48/48 [==============================] - 0s 826us/step - loss: 0.4712 - accuracy: 0.7773\n",
      "Epoch 26/150\n",
      "48/48 [==============================] - 0s 818us/step - loss: 0.5036 - accuracy: 0.7370\n",
      "Epoch 27/150\n",
      "48/48 [==============================] - 0s 802us/step - loss: 0.4682 - accuracy: 0.7708\n",
      "Epoch 28/150\n",
      "48/48 [==============================] - 0s 795us/step - loss: 0.4722 - accuracy: 0.7721\n",
      "Epoch 29/150\n",
      "48/48 [==============================] - 0s 787us/step - loss: 0.4462 - accuracy: 0.7812\n",
      "Epoch 30/150\n",
      "48/48 [==============================] - 0s 793us/step - loss: 0.5001 - accuracy: 0.7773\n",
      "Epoch 31/150\n",
      "48/48 [==============================] - 0s 850us/step - loss: 0.4569 - accuracy: 0.7917\n",
      "Epoch 32/150\n",
      "48/48 [==============================] - 0s 902us/step - loss: 0.4594 - accuracy: 0.7943\n",
      "Epoch 33/150\n",
      "48/48 [==============================] - 0s 1ms/step - loss: 0.4619 - accuracy: 0.7708\n",
      "Epoch 34/150\n",
      "48/48 [==============================] - 0s 936us/step - loss: 0.4553 - accuracy: 0.7839\n",
      "Epoch 35/150\n",
      "48/48 [==============================] - 0s 809us/step - loss: 0.4807 - accuracy: 0.7656\n",
      "Epoch 36/150\n",
      "48/48 [==============================] - 0s 808us/step - loss: 0.4685 - accuracy: 0.7682\n",
      "Epoch 37/150\n",
      "48/48 [==============================] - 0s 830us/step - loss: 0.4564 - accuracy: 0.7812\n",
      "Epoch 38/150\n",
      "48/48 [==============================] - 0s 809us/step - loss: 0.4639 - accuracy: 0.7773\n",
      "Epoch 39/150\n",
      "48/48 [==============================] - 0s 851us/step - loss: 0.4734 - accuracy: 0.7721\n",
      "Epoch 40/150\n",
      "48/48 [==============================] - 0s 809us/step - loss: 0.4884 - accuracy: 0.7552\n",
      "Epoch 41/150\n",
      "48/48 [==============================] - 0s 787us/step - loss: 0.4545 - accuracy: 0.7812\n",
      "Epoch 42/150\n",
      "48/48 [==============================] - 0s 809us/step - loss: 0.4570 - accuracy: 0.7826\n",
      "Epoch 43/150\n",
      "48/48 [==============================] - 0s 794us/step - loss: 0.4599 - accuracy: 0.7826\n",
      "Epoch 44/150\n",
      "48/48 [==============================] - 0s 844us/step - loss: 0.4629 - accuracy: 0.7826\n",
      "Epoch 45/150\n",
      "48/48 [==============================] - 0s 770us/step - loss: 0.4952 - accuracy: 0.7474\n",
      "Epoch 46/150\n",
      "48/48 [==============================] - 0s 787us/step - loss: 0.4671 - accuracy: 0.7760\n",
      "Epoch 47/150\n",
      "48/48 [==============================] - 0s 830us/step - loss: 0.4845 - accuracy: 0.7643\n",
      "Epoch 48/150\n",
      "48/48 [==============================] - 0s 808us/step - loss: 0.4601 - accuracy: 0.7878\n",
      "Epoch 49/150\n",
      "48/48 [==============================] - 0s 809us/step - loss: 0.4709 - accuracy: 0.7695\n",
      "Epoch 50/150\n",
      "48/48 [==============================] - 0s 830us/step - loss: 0.4581 - accuracy: 0.7839\n",
      "Epoch 51/150\n",
      "48/48 [==============================] - 0s 830us/step - loss: 0.4549 - accuracy: 0.7826\n",
      "Epoch 52/150\n",
      "48/48 [==============================] - 0s 830us/step - loss: 0.4656 - accuracy: 0.7865\n",
      "Epoch 53/150\n",
      "48/48 [==============================] - 0s 811us/step - loss: 0.4665 - accuracy: 0.7760\n",
      "Epoch 54/150\n",
      "48/48 [==============================] - 0s 809us/step - loss: 0.4606 - accuracy: 0.7786\n",
      "Epoch 55/150\n",
      "48/48 [==============================] - 0s 808us/step - loss: 0.4631 - accuracy: 0.7904\n",
      "Epoch 56/150\n",
      "48/48 [==============================] - 0s 830us/step - loss: 0.4690 - accuracy: 0.7812\n",
      "Epoch 57/150\n",
      "48/48 [==============================] - 0s 872us/step - loss: 0.4517 - accuracy: 0.7943\n",
      "Epoch 58/150\n",
      "48/48 [==============================] - 0s 830us/step - loss: 0.4672 - accuracy: 0.7799\n",
      "Epoch 59/150\n",
      "48/48 [==============================] - 0s 808us/step - loss: 0.4580 - accuracy: 0.7682\n",
      "Epoch 60/150\n",
      "48/48 [==============================] - 0s 808us/step - loss: 0.4595 - accuracy: 0.7969\n",
      "Epoch 61/150\n",
      "48/48 [==============================] - 0s 809us/step - loss: 0.4591 - accuracy: 0.7982\n",
      "Epoch 62/150\n",
      "48/48 [==============================] - 0s 787us/step - loss: 0.4613 - accuracy: 0.7773\n",
      "Epoch 63/150\n",
      "48/48 [==============================] - 0s 809us/step - loss: 0.5031 - accuracy: 0.7760\n",
      "Epoch 64/150\n",
      "48/48 [==============================] - 0s 772us/step - loss: 0.4979 - accuracy: 0.7591\n",
      "Epoch 65/150\n",
      "48/48 [==============================] - 0s 787us/step - loss: 0.4670 - accuracy: 0.7760\n",
      "Epoch 66/150\n",
      "48/48 [==============================] - 0s 786us/step - loss: 0.4684 - accuracy: 0.7747\n",
      "Epoch 67/150\n",
      "48/48 [==============================] - 0s 781us/step - loss: 0.4781 - accuracy: 0.7708\n",
      "Epoch 68/150\n",
      "48/48 [==============================] - 0s 772us/step - loss: 0.4603 - accuracy: 0.7865\n",
      "Epoch 69/150\n",
      "48/48 [==============================] - 0s 830us/step - loss: 0.4492 - accuracy: 0.7956\n",
      "Epoch 70/150\n",
      "48/48 [==============================] - 0s 794us/step - loss: 0.4755 - accuracy: 0.7708\n",
      "Epoch 71/150\n",
      "48/48 [==============================] - 0s 809us/step - loss: 0.4889 - accuracy: 0.7747\n",
      "Epoch 72/150\n",
      "48/48 [==============================] - 0s 851us/step - loss: 0.5104 - accuracy: 0.7721\n",
      "Epoch 73/150\n",
      "48/48 [==============================] - 0s 802us/step - loss: 0.4549 - accuracy: 0.7812\n",
      "Epoch 74/150\n",
      "48/48 [==============================] - 0s 831us/step - loss: 0.4604 - accuracy: 0.7956\n",
      "Epoch 75/150\n",
      "48/48 [==============================] - 0s 961us/step - loss: 0.4498 - accuracy: 0.7904\n",
      "Epoch 76/150\n",
      "48/48 [==============================] - 0s 851us/step - loss: 0.4518 - accuracy: 0.7930\n",
      "Epoch 77/150\n",
      "48/48 [==============================] - 0s 831us/step - loss: 0.4481 - accuracy: 0.7799\n",
      "Epoch 78/150\n",
      "48/48 [==============================] - 0s 809us/step - loss: 0.4732 - accuracy: 0.7747\n",
      "Epoch 79/150\n",
      "48/48 [==============================] - 0s 830us/step - loss: 0.5038 - accuracy: 0.7578\n",
      "Epoch 80/150\n",
      "48/48 [==============================] - 0s 787us/step - loss: 0.4456 - accuracy: 0.7839\n",
      "Epoch 81/150\n"
     ]
    },
    {
     "name": "stdout",
     "output_type": "stream",
     "text": [
      "48/48 [==============================] - 0s 766us/step - loss: 0.4661 - accuracy: 0.7760\n",
      "Epoch 82/150\n",
      "48/48 [==============================] - 0s 822us/step - loss: 0.4655 - accuracy: 0.7852\n",
      "Epoch 83/150\n",
      "48/48 [==============================] - 0s 830us/step - loss: 0.4560 - accuracy: 0.7969\n",
      "Epoch 84/150\n",
      "48/48 [==============================] - 0s 851us/step - loss: 0.4531 - accuracy: 0.7943\n",
      "Epoch 85/150\n",
      "48/48 [==============================] - 0s 856us/step - loss: 0.4556 - accuracy: 0.7839\n",
      "Epoch 86/150\n",
      "48/48 [==============================] - 0s 840us/step - loss: 0.4555 - accuracy: 0.7812\n",
      "Epoch 87/150\n",
      "48/48 [==============================] - 0s 872us/step - loss: 0.4481 - accuracy: 0.7852\n",
      "Epoch 88/150\n",
      "48/48 [==============================] - 0s 834us/step - loss: 0.4793 - accuracy: 0.7773\n",
      "Epoch 89/150\n",
      "48/48 [==============================] - 0s 852us/step - loss: 0.4459 - accuracy: 0.7826\n",
      "Epoch 90/150\n",
      "48/48 [==============================] - 0s 808us/step - loss: 0.5053 - accuracy: 0.7630\n",
      "Epoch 91/150\n",
      "48/48 [==============================] - 0s 805us/step - loss: 0.4632 - accuracy: 0.7721\n",
      "Epoch 92/150\n",
      "48/48 [==============================] - 0s 830us/step - loss: 0.4724 - accuracy: 0.7865\n",
      "Epoch 93/150\n",
      "48/48 [==============================] - 0s 810us/step - loss: 0.4808 - accuracy: 0.7760\n",
      "Epoch 94/150\n",
      "48/48 [==============================] - 0s 808us/step - loss: 0.4503 - accuracy: 0.7982\n",
      "Epoch 95/150\n",
      "48/48 [==============================] - 0s 830us/step - loss: 0.4485 - accuracy: 0.7891\n",
      "Epoch 96/150\n",
      "48/48 [==============================] - 0s 830us/step - loss: 0.4519 - accuracy: 0.7865\n",
      "Epoch 97/150\n",
      "48/48 [==============================] - 0s 789us/step - loss: 0.4607 - accuracy: 0.7799\n",
      "Epoch 98/150\n",
      "48/48 [==============================] - 0s 809us/step - loss: 0.4677 - accuracy: 0.7747\n",
      "Epoch 99/150\n",
      "48/48 [==============================] - 0s 778us/step - loss: 0.4661 - accuracy: 0.7708\n",
      "Epoch 100/150\n",
      "48/48 [==============================] - 0s 787us/step - loss: 0.4774 - accuracy: 0.7865\n",
      "Epoch 101/150\n",
      "48/48 [==============================] - 0s 766us/step - loss: 0.4471 - accuracy: 0.7943\n",
      "Epoch 102/150\n",
      "48/48 [==============================] - 0s 787us/step - loss: 0.4723 - accuracy: 0.7734\n",
      "Epoch 103/150\n",
      "48/48 [==============================] - 0s 781us/step - loss: 0.4462 - accuracy: 0.7995\n",
      "Epoch 104/150\n",
      "48/48 [==============================] - 0s 809us/step - loss: 0.4618 - accuracy: 0.7786\n",
      "Epoch 105/150\n",
      "48/48 [==============================] - 0s 809us/step - loss: 0.4442 - accuracy: 0.7930\n",
      "Epoch 106/150\n",
      "48/48 [==============================] - 0s 808us/step - loss: 0.4559 - accuracy: 0.7812\n",
      "Epoch 107/150\n",
      "48/48 [==============================] - 0s 809us/step - loss: 0.4507 - accuracy: 0.7852\n",
      "Epoch 108/150\n",
      "48/48 [==============================] - 0s 816us/step - loss: 0.4772 - accuracy: 0.7747\n",
      "Epoch 109/150\n",
      "48/48 [==============================] - 0s 808us/step - loss: 0.4572 - accuracy: 0.7760\n",
      "Epoch 110/150\n",
      "48/48 [==============================] - 0s 808us/step - loss: 0.4500 - accuracy: 0.7956\n",
      "Epoch 111/150\n",
      "48/48 [==============================] - 0s 809us/step - loss: 0.4520 - accuracy: 0.7904\n",
      "Epoch 112/150\n",
      "48/48 [==============================] - 0s 823us/step - loss: 0.4772 - accuracy: 0.7656\n",
      "Epoch 113/150\n",
      "48/48 [==============================] - 0s 807us/step - loss: 0.4564 - accuracy: 0.7904\n",
      "Epoch 114/150\n",
      "48/48 [==============================] - 0s 787us/step - loss: 0.4415 - accuracy: 0.7917\n",
      "Epoch 115/150\n",
      "48/48 [==============================] - 0s 851us/step - loss: 0.4556 - accuracy: 0.8021\n",
      "Epoch 116/150\n",
      "48/48 [==============================] - 0s 894us/step - loss: 0.4573 - accuracy: 0.7747\n",
      "Epoch 117/150\n",
      "48/48 [==============================] - 0s 895us/step - loss: 0.4464 - accuracy: 0.8008\n",
      "Epoch 118/150\n",
      "48/48 [==============================] - 0s 821us/step - loss: 0.4606 - accuracy: 0.7839\n",
      "Epoch 119/150\n",
      "48/48 [==============================] - 0s 844us/step - loss: 0.4477 - accuracy: 0.7773\n",
      "Epoch 120/150\n",
      "48/48 [==============================] - 0s 801us/step - loss: 0.4450 - accuracy: 0.7904\n",
      "Epoch 121/150\n",
      "48/48 [==============================] - 0s 802us/step - loss: 0.4524 - accuracy: 0.7865\n",
      "Epoch 122/150\n",
      "48/48 [==============================] - 0s 795us/step - loss: 0.4656 - accuracy: 0.7865\n",
      "Epoch 123/150\n",
      "48/48 [==============================] - 0s 808us/step - loss: 0.4506 - accuracy: 0.7930\n",
      "Epoch 124/150\n",
      "48/48 [==============================] - 0s 809us/step - loss: 0.4595 - accuracy: 0.7812\n",
      "Epoch 125/150\n",
      "48/48 [==============================] - 0s 822us/step - loss: 0.4506 - accuracy: 0.7891\n",
      "Epoch 126/150\n",
      "48/48 [==============================] - 0s 830us/step - loss: 0.4516 - accuracy: 0.7943\n",
      "Epoch 127/150\n",
      "48/48 [==============================] - 0s 809us/step - loss: 0.4872 - accuracy: 0.7734\n",
      "Epoch 128/150\n",
      "48/48 [==============================] - 0s 830us/step - loss: 0.4512 - accuracy: 0.7878\n",
      "Epoch 129/150\n",
      "48/48 [==============================] - 0s 857us/step - loss: 0.4630 - accuracy: 0.7904\n",
      "Epoch 130/150\n",
      "48/48 [==============================] - 0s 830us/step - loss: 0.4629 - accuracy: 0.7760\n",
      "Epoch 131/150\n",
      "48/48 [==============================] - 0s 830us/step - loss: 0.4571 - accuracy: 0.7708\n",
      "Epoch 132/150\n",
      "48/48 [==============================] - 0s 872us/step - loss: 0.4527 - accuracy: 0.7917\n",
      "Epoch 133/150\n",
      "48/48 [==============================] - 0s 830us/step - loss: 0.4510 - accuracy: 0.7865\n",
      "Epoch 134/150\n",
      "48/48 [==============================] - 0s 830us/step - loss: 0.4815 - accuracy: 0.7708\n",
      "Epoch 135/150\n",
      "48/48 [==============================] - 0s 808us/step - loss: 0.4424 - accuracy: 0.7943\n",
      "Epoch 136/150\n",
      "48/48 [==============================] - 0s 809us/step - loss: 0.4391 - accuracy: 0.7943\n",
      "Epoch 137/150\n",
      "48/48 [==============================] - 0s 823us/step - loss: 0.4484 - accuracy: 0.7839\n",
      "Epoch 138/150\n",
      "48/48 [==============================] - 0s 822us/step - loss: 0.4430 - accuracy: 0.7852\n",
      "Epoch 139/150\n",
      "48/48 [==============================] - 0s 872us/step - loss: 0.4446 - accuracy: 0.7891\n",
      "Epoch 140/150\n",
      "48/48 [==============================] - 0s 851us/step - loss: 0.4469 - accuracy: 0.7878\n",
      "Epoch 141/150\n",
      "48/48 [==============================] - 0s 865us/step - loss: 0.4517 - accuracy: 0.7878\n",
      "Epoch 142/150\n",
      "48/48 [==============================] - 0s 887us/step - loss: 0.4390 - accuracy: 0.7812\n",
      "Epoch 143/150\n",
      "48/48 [==============================] - 0s 841us/step - loss: 0.4462 - accuracy: 0.7943\n",
      "Epoch 144/150\n",
      "48/48 [==============================] - 0s 959us/step - loss: 0.4514 - accuracy: 0.7917\n",
      "Epoch 145/150\n",
      "48/48 [==============================] - 0s 830us/step - loss: 0.4626 - accuracy: 0.7721\n",
      "Epoch 146/150\n",
      "48/48 [==============================] - 0s 851us/step - loss: 0.4520 - accuracy: 0.7852\n",
      "Epoch 147/150\n",
      "48/48 [==============================] - 0s 830us/step - loss: 0.4523 - accuracy: 0.7839\n",
      "Epoch 148/150\n",
      "48/48 [==============================] - 0s 816us/step - loss: 0.4442 - accuracy: 0.7917\n",
      "Epoch 149/150\n",
      "48/48 [==============================] - 0s 830us/step - loss: 0.4505 - accuracy: 0.7799\n",
      "Epoch 150/150\n",
      "48/48 [==============================] - 0s 809us/step - loss: 0.4691 - accuracy: 0.7734\n"
     ]
    },
    {
     "data": {
      "text/plain": [
       "<keras.callbacks.History at 0x20f0caa6b50>"
      ]
     },
     "execution_count": 57,
     "metadata": {},
     "output_type": "execute_result"
    }
   ],
   "source": [
    "# fit the model \n",
    "model.fit(X, y, epochs=150, batch_size=16)"
   ]
  },
  {
   "cell_type": "markdown",
   "metadata": {},
   "source": [
    "---\n",
    "<div style=\"text-align: right\"> <font size=5> <a href=\"#indice\"><i class=\"fa fa-arrow-circle-up\" aria-hidden=\"true\" style=\"color:#004D7F\"></i></a></font></div>\n",
    "\n",
    "---"
   ]
  },
  {
   "cell_type": "markdown",
   "metadata": {},
   "source": [
    "<a id=\"section6\"></a>\n",
    "# <font color=\"#004D7F\" size=6>6. Evaluar modelo</font>"
   ]
  },
  {
   "cell_type": "markdown",
   "metadata": {},
   "source": [
    "Podemos evaluar tu modelo en tu conjunto de datos de entrenamiento usando la función de `evaluation()` y pasar la misma entrada y salida que usaste para entrenar el modelo."
   ]
  },
  {
   "cell_type": "code",
   "execution_count": 66,
   "metadata": {},
   "outputs": [
    {
     "name": "stdout",
     "output_type": "stream",
     "text": [
      "24/24 [==============================] - 0s 1ms/step - loss: 0.4343 - accuracy: 0.8060\n",
      "Accuracy: 80.60\n"
     ]
    }
   ],
   "source": [
    "_, accuracy = model.evaluate(X, y)\n",
    "print('Accuracy: %.2f' % (accuracy*100)) "
   ]
  },
  {
   "cell_type": "markdown",
   "metadata": {},
   "source": [
    "---\n",
    "<div style=\"text-align: right\"> <font size=5> <a href=\"#indice\"><i class=\"fa fa-arrow-circle-up\" aria-hidden=\"true\" style=\"color:#004D7F\"></i></a></font></div>\n",
    "\n",
    "---"
   ]
  },
  {
   "cell_type": "markdown",
   "metadata": {},
   "source": [
    "<a id=\"section7\"></a>\n",
    "# <font color=\"#004D7F\" size=6>7. Hacer predicciones</font>"
   ]
  },
  {
   "cell_type": "markdown",
   "metadata": {},
   "source": [
    "Podemos llamar a la función `predict_classes()` para predecir clases directamente, por ejemplo:"
   ]
  },
  {
   "cell_type": "code",
   "execution_count": 67,
   "metadata": {},
   "outputs": [],
   "source": [
    "import matplotlib.pyplot as plt"
   ]
  },
  {
   "cell_type": "code",
   "execution_count": 78,
   "metadata": {},
   "outputs": [
    {
     "name": "stdout",
     "output_type": "stream",
     "text": [
      "8/8 [==============================] - 0s 1ms/step\n"
     ]
    },
    {
     "ename": "ValueError",
     "evalue": "cannot reshape array of size 8 into shape (28,28)",
     "output_type": "error",
     "traceback": [
      "\u001b[1;31m---------------------------------------------------------------------------\u001b[0m",
      "\u001b[1;31mValueError\u001b[0m                                Traceback (most recent call last)",
      "Input \u001b[1;32mIn [78]\u001b[0m, in \u001b[0;36m<cell line: 10>\u001b[1;34m()\u001b[0m\n\u001b[0;32m     13\u001b[0m     fig_i\u001b[38;5;241m.\u001b[39mset_yticks(())\n\u001b[0;32m     14\u001b[0m     fig_i\u001b[38;5;241m.\u001b[39mset_xlabel(\u001b[38;5;124m\"\u001b[39m\u001b[38;5;124mPrediction: \u001b[39m\u001b[38;5;132;01m{}\u001b[39;00m\u001b[38;5;124m\"\u001b[39m\u001b[38;5;241m.\u001b[39mformat(Valor_salida[index[i]]))\n\u001b[1;32m---> 15\u001b[0m     plt\u001b[38;5;241m.\u001b[39mimshow(\u001b[43mX_test\u001b[49m\u001b[43m[\u001b[49m\u001b[43mindex\u001b[49m\u001b[43m[\u001b[49m\u001b[43mi\u001b[49m\u001b[43m]\u001b[49m\u001b[43m]\u001b[49m\u001b[38;5;241;43m.\u001b[39;49m\u001b[43mreshape\u001b[49m\u001b[43m(\u001b[49m\u001b[43m(\u001b[49m\u001b[38;5;241;43m28\u001b[39;49m\u001b[43m,\u001b[49m\u001b[38;5;241;43m28\u001b[39;49m\u001b[43m)\u001b[49m\u001b[43m)\u001b[49m, cmap\u001b[38;5;241m=\u001b[39m\u001b[38;5;124m'\u001b[39m\u001b[38;5;124mgray\u001b[39m\u001b[38;5;124m'\u001b[39m)\n\u001b[0;32m     16\u001b[0m plt\u001b[38;5;241m.\u001b[39mshow()\n",
      "\u001b[1;31mValueError\u001b[0m: cannot reshape array of size 8 into shape (28,28)"
     ]
    },
    {
     "data": {
      "image/png": "[encoded data removed]",
      "text/plain": [
       "<Figure size 1440x576 with 1 Axes>"
      ]
     },
     "metadata": {},
     "output_type": "display_data"
    }
   ],
   "source": [
    "# En este caso nos quedamos con las clases\n",
    "\n",
    "predictions = (model.predict(X_test) > 0.5).astype(\"int32\") \n",
    " \n",
    "Valor_salida = np.argmax(predictions, axis=1) \n",
    " \n",
    "# Mostramos algunos digitos con las clases predichas\n",
    "fig=plt.figure(figsize=(20, 8))\n",
    "index = np.random.randint(len(X_test), size=10)\n",
    "for i in range(10):\n",
    "    fig_i = fig.add_subplot(1, 10, i+1)\n",
    "    fig_i.set_xticks(())\n",
    "    fig_i.set_yticks(())\n",
    "    fig_i.set_xlabel(\"Prediction: {}\".format(Valor_salida[index[i]]))\n",
    "    plt.imshow(X_test[index[i]].reshape((28,28)), cmap='gray')\n",
    "plt.show()"
   ]
  },
  {
   "cell_type": "code",
   "execution_count": 61,
   "metadata": {},
   "outputs": [
    {
     "ename": "AttributeError",
     "evalue": "'Sequential' object has no attribute 'predict_classes'",
     "output_type": "error",
     "traceback": [
      "\u001b[1;31m---------------------------------------------------------------------------\u001b[0m",
      "\u001b[1;31mAttributeError\u001b[0m                            Traceback (most recent call last)",
      "Input \u001b[1;32mIn [61]\u001b[0m, in \u001b[0;36m<cell line: 2>\u001b[1;34m()\u001b[0m\n\u001b[0;32m      1\u001b[0m \u001b[38;5;66;03m# make class prediction -> hacer predicción de clase\u001b[39;00m\n\u001b[1;32m----> 2\u001b[0m predictions \u001b[38;5;241m=\u001b[39m \u001b[43mmodel\u001b[49m\u001b[38;5;241;43m.\u001b[39;49m\u001b[43mpredict_classes\u001b[49m(X)\n",
      "\u001b[1;31mAttributeError\u001b[0m: 'Sequential' object has no attribute 'predict_classes'"
     ]
    }
   ],
   "source": [
    "# make class prediction -> hacer predicción de clase\n",
    "predictions = model.predict_classes(X)"
   ]
  },
  {
   "cell_type": "markdown",
   "metadata": {},
   "source": [
    "Veamos un ejemplo"
   ]
  },
  {
   "cell_type": "code",
   "execution_count": 55,
   "metadata": {},
   "outputs": [
    {
     "ename": "NameError",
     "evalue": "name 'predictions' is not defined",
     "output_type": "error",
     "traceback": [
      "\u001b[1;31m---------------------------------------------------------------------------\u001b[0m",
      "\u001b[1;31mNameError\u001b[0m                                 Traceback (most recent call last)",
      "Input \u001b[1;32mIn [55]\u001b[0m, in \u001b[0;36m<cell line: 1>\u001b[1;34m()\u001b[0m\n\u001b[0;32m      1\u001b[0m \u001b[38;5;28;01mfor\u001b[39;00m i \u001b[38;5;129;01min\u001b[39;00m \u001b[38;5;28mrange\u001b[39m(\u001b[38;5;241m10\u001b[39m):\n\u001b[1;32m----> 2\u001b[0m     \u001b[38;5;28mprint\u001b[39m(\u001b[38;5;124m'\u001b[39m\u001b[38;5;132;01m%s\u001b[39;00m\u001b[38;5;124m --> \u001b[39m\u001b[38;5;132;01m%d\u001b[39;00m\u001b[38;5;124m (real \u001b[39m\u001b[38;5;132;01m%d\u001b[39;00m\u001b[38;5;124m)\u001b[39m\u001b[38;5;124m'\u001b[39m \u001b[38;5;241m%\u001b[39m (X[i]\u001b[38;5;241m.\u001b[39mtolist(), \u001b[43mpredictions\u001b[49m[i], y[i]))\n",
      "\u001b[1;31mNameError\u001b[0m: name 'predictions' is not defined"
     ]
    }
   ],
   "source": [
    "for i in range(10):\n",
    "    print('%s --> %d (real %d)' % (X[i].tolist(), predictions[i], y[i]))"
   ]
  },
  {
   "cell_type": "markdown",
   "metadata": {},
   "source": [
    "Ejecutar el ejemplo no muestra la barra de progreso como antes, ya que hemos establecido el argumento `verbose` en 0. "
   ]
  },
  {
   "cell_type": "markdown",
   "metadata": {},
   "source": [
    "<div style=\"text-align: right\"> <font size=5> <a href=\"#indice\"><i class=\"fa fa-arrow-circle-up\" aria-hidden=\"true\" style=\"color:#004D7F\"></i></a></font></div>\n",
    "\n",
    "---\n",
    "\n",
    "<div style=\"text-align: right\"> <font size=6><i class=\"fa fa-coffee\" aria-hidden=\"true\" style=\"color:#004D7F\"></i> </font></div>"
   ]
  }
 ],
 "metadata": {
  "kernelspec": {
   "display_name": "Python 3 (ipykernel)",
   "language": "python",
   "name": "python3"
  },
  "language_info": {
   "codemirror_mode": {
    "name": "ipython",
    "version": 3
   },
   "file_extension": ".py",
   "mimetype": "text/x-python",
   "name": "python",
   "nbconvert_exporter": "python",
   "pygments_lexer": "ipython3",
   "version": "3.9.12"
  }
 },
 "nbformat": 4,
 "nbformat_minor": 2
}
